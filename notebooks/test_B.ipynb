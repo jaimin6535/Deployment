{
 "cells": [
  {
   "cell_type": "code",
   "execution_count": 2,
   "metadata": {},
   "outputs": [
    {
     "name": "stdout",
     "output_type": "stream",
     "text": [
      "<Response [200]>\n",
      "Request successful\n",
      "['Y']\n"
     ]
    }
   ],
   "source": [
    "import requests as r\n",
    "import pandas as pd\n",
    "import json\n",
    "\n",
    "base_url = 'http://ec2-13-52-74-108.us-west-1.compute.amazonaws.com:5555/test'\n",
    "json_data = {\n",
    "    \"Gender\": \"Male\",\n",
    "    \"Married\": \"Yes\",\n",
    "    \"Dependents\": \"1\",\n",
    "    \"Education\": \"Graduate\",\n",
    "    \"Self_Employed\": \"No\",\n",
    "    \"ApplicantIncome\": 5849,\n",
    "    \"CoapplicantIncome\": 1000,\n",
    "    \"LoanAmount\": 400,\n",
    "    \"Loan_Amount_Term\": 360,\n",
    "    \"Credit_History\": 1.0,\n",
    "    \"Property_Area\": \"Urban\"\n",
    "}\n",
    "\n",
    "response = r.post(base_url, json=json_data)\n",
    "print(response)\n",
    "\n",
    "if response.status_code == 200:\n",
    "    print('Request successful')\n",
    "    print(response.json())\n",
    "else:\n",
    "    print('Request failed')\n",
    "    print(response.json())\n"
   ]
  },
  {
   "cell_type": "code",
   "execution_count": null,
   "metadata": {},
   "outputs": [],
   "source": []
  }
 ],
 "metadata": {
  "kernelspec": {
   "display_name": "Python (env_tensorflow)",
   "language": "python",
   "name": "env_tensorflow"
  },
  "language_info": {
   "codemirror_mode": {
    "name": "ipython",
    "version": 3
   },
   "file_extension": ".py",
   "mimetype": "text/x-python",
   "name": "python",
   "nbconvert_exporter": "python",
   "pygments_lexer": "ipython3",
   "version": "3.10.9"
  },
  "orig_nbformat": 4
 },
 "nbformat": 4,
 "nbformat_minor": 2
}
